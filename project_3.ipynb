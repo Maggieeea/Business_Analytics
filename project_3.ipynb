{
 "cells": [
  {
   "cell_type": "code",
   "execution_count": 3,
   "id": "96f801e0-a440-48ef-9224-3de503dec06c",
   "metadata": {},
   "outputs": [],
   "source": [
    "import pandas as pd\n",
    "import numpy as np\n",
    "import time\n",
    "import datetime"
   ]
  },
  {
   "cell_type": "code",
   "execution_count": 4,
   "id": "d32b3805-1dd9-45dd-906c-c558e404c981",
   "metadata": {
    "tags": []
   },
   "outputs": [],
   "source": [
    "CALL = pd.read_pickle('Project-3_NYC_311_Calls.pkl')"
   ]
  },
  {
   "cell_type": "code",
   "execution_count": 5,
   "id": "c0f20261-2d3f-48dc-88e6-344570e0104d",
   "metadata": {},
   "outputs": [
    {
     "data": {
      "text/html": [
       "<div>\n",
       "<style scoped>\n",
       "    .dataframe tbody tr th:only-of-type {\n",
       "        vertical-align: middle;\n",
       "    }\n",
       "\n",
       "    .dataframe tbody tr th {\n",
       "        vertical-align: top;\n",
       "    }\n",
       "\n",
       "    .dataframe thead th {\n",
       "        text-align: right;\n",
       "    }\n",
       "</style>\n",
       "<table border=\"1\" class=\"dataframe\">\n",
       "  <thead>\n",
       "    <tr style=\"text-align: right;\">\n",
       "      <th></th>\n",
       "      <th>Unique Key</th>\n",
       "      <th>Created Date</th>\n",
       "      <th>Agency</th>\n",
       "      <th>Agency Name</th>\n",
       "      <th>Complaint Type</th>\n",
       "      <th>Descriptor</th>\n",
       "      <th>Location Type</th>\n",
       "      <th>Incident Zip</th>\n",
       "      <th>City</th>\n",
       "      <th>Resolution Description</th>\n",
       "      <th>Borough</th>\n",
       "      <th>Open Data Channel Type</th>\n",
       "    </tr>\n",
       "  </thead>\n",
       "  <tbody>\n",
       "    <tr>\n",
       "      <th>0</th>\n",
       "      <td>20184537</td>\n",
       "      <td>2011-04-06 00:00:00</td>\n",
       "      <td>HPD</td>\n",
       "      <td>Department of Housing Preservation and Develop...</td>\n",
       "      <td>HEATING</td>\n",
       "      <td>HEAT</td>\n",
       "      <td>RESIDENTIAL BUILDING</td>\n",
       "      <td>10002.0</td>\n",
       "      <td>NEW YORK</td>\n",
       "      <td>More than one complaint was received for this ...</td>\n",
       "      <td>MANHATTAN</td>\n",
       "      <td>UNKNOWN</td>\n",
       "    </tr>\n",
       "    <tr>\n",
       "      <th>1</th>\n",
       "      <td>20184538</td>\n",
       "      <td>2011-04-06 00:00:00</td>\n",
       "      <td>HPD</td>\n",
       "      <td>Department of Housing Preservation and Develop...</td>\n",
       "      <td>GENERAL CONSTRUCTION</td>\n",
       "      <td>WINDOWS</td>\n",
       "      <td>RESIDENTIAL BUILDING</td>\n",
       "      <td>11236.0</td>\n",
       "      <td>BROOKLYN</td>\n",
       "      <td>The Department of Housing Preservation and Dev...</td>\n",
       "      <td>BROOKLYN</td>\n",
       "      <td>UNKNOWN</td>\n",
       "    </tr>\n",
       "    <tr>\n",
       "      <th>2</th>\n",
       "      <td>20184539</td>\n",
       "      <td>2011-04-06 00:00:00</td>\n",
       "      <td>HPD</td>\n",
       "      <td>Department of Housing Preservation and Develop...</td>\n",
       "      <td>PAINT - PLASTER</td>\n",
       "      <td>WALLS</td>\n",
       "      <td>RESIDENTIAL BUILDING</td>\n",
       "      <td>10460.0</td>\n",
       "      <td>BRONX</td>\n",
       "      <td>The Department of Housing Preservation and Dev...</td>\n",
       "      <td>BRONX</td>\n",
       "      <td>UNKNOWN</td>\n",
       "    </tr>\n",
       "    <tr>\n",
       "      <th>3</th>\n",
       "      <td>54732265</td>\n",
       "      <td>2022-07-08 11:14:43</td>\n",
       "      <td>DSNY</td>\n",
       "      <td>Department of Sanitation</td>\n",
       "      <td>Dirty Condition</td>\n",
       "      <td>Trash</td>\n",
       "      <td>Sidewalk</td>\n",
       "      <td>10467.0</td>\n",
       "      <td>BRONX</td>\n",
       "      <td>The Department of Sanitation investigated this...</td>\n",
       "      <td>BRONX</td>\n",
       "      <td>PHONE</td>\n",
       "    </tr>\n",
       "    <tr>\n",
       "      <th>4</th>\n",
       "      <td>20184540</td>\n",
       "      <td>2011-04-06 00:00:00</td>\n",
       "      <td>HPD</td>\n",
       "      <td>Department of Housing Preservation and Develop...</td>\n",
       "      <td>NONCONST</td>\n",
       "      <td>VERMIN</td>\n",
       "      <td>RESIDENTIAL BUILDING</td>\n",
       "      <td>10460.0</td>\n",
       "      <td>BRONX</td>\n",
       "      <td>The Department of Housing Preservation and Dev...</td>\n",
       "      <td>BRONX</td>\n",
       "      <td>UNKNOWN</td>\n",
       "    </tr>\n",
       "  </tbody>\n",
       "</table>\n",
       "</div>"
      ],
      "text/plain": [
       "   Unique Key        Created Date Agency  \\\n",
       "0    20184537 2011-04-06 00:00:00    HPD   \n",
       "1    20184538 2011-04-06 00:00:00    HPD   \n",
       "2    20184539 2011-04-06 00:00:00    HPD   \n",
       "3    54732265 2022-07-08 11:14:43   DSNY   \n",
       "4    20184540 2011-04-06 00:00:00    HPD   \n",
       "\n",
       "                                         Agency Name        Complaint Type  \\\n",
       "0  Department of Housing Preservation and Develop...               HEATING   \n",
       "1  Department of Housing Preservation and Develop...  GENERAL CONSTRUCTION   \n",
       "2  Department of Housing Preservation and Develop...       PAINT - PLASTER   \n",
       "3                           Department of Sanitation       Dirty Condition   \n",
       "4  Department of Housing Preservation and Develop...              NONCONST   \n",
       "\n",
       "  Descriptor         Location Type Incident Zip      City  \\\n",
       "0       HEAT  RESIDENTIAL BUILDING      10002.0  NEW YORK   \n",
       "1    WINDOWS  RESIDENTIAL BUILDING      11236.0  BROOKLYN   \n",
       "2      WALLS  RESIDENTIAL BUILDING      10460.0     BRONX   \n",
       "3      Trash              Sidewalk      10467.0     BRONX   \n",
       "4     VERMIN  RESIDENTIAL BUILDING      10460.0     BRONX   \n",
       "\n",
       "                              Resolution Description    Borough  \\\n",
       "0  More than one complaint was received for this ...  MANHATTAN   \n",
       "1  The Department of Housing Preservation and Dev...   BROOKLYN   \n",
       "2  The Department of Housing Preservation and Dev...      BRONX   \n",
       "3  The Department of Sanitation investigated this...      BRONX   \n",
       "4  The Department of Housing Preservation and Dev...      BRONX   \n",
       "\n",
       "  Open Data Channel Type  \n",
       "0                UNKNOWN  \n",
       "1                UNKNOWN  \n",
       "2                UNKNOWN  \n",
       "3                  PHONE  \n",
       "4                UNKNOWN  "
      ]
     },
     "execution_count": 5,
     "metadata": {},
     "output_type": "execute_result"
    }
   ],
   "source": [
    "CALL.head()"
   ]
  },
  {
   "cell_type": "code",
   "execution_count": 6,
   "id": "4568e13a-e773-48df-8efb-c201ed4f81e5",
   "metadata": {},
   "outputs": [],
   "source": [
    "#Exploratory Data Analysis"
   ]
  },
  {
   "cell_type": "code",
   "execution_count": 7,
   "id": "64c8fdc9-f3ab-47e0-be76-6c887382448f",
   "metadata": {},
   "outputs": [
    {
     "name": "stdout",
     "output_type": "stream",
     "text": [
      "<class 'pandas.core.frame.DataFrame'>\n",
      "RangeIndex: 33780977 entries, 0 to 33780976\n",
      "Data columns (total 12 columns):\n",
      " #   Column                  Dtype         \n",
      "---  ------                  -----         \n",
      " 0   Unique Key              int64         \n",
      " 1   Created Date            datetime64[ns]\n",
      " 2   Agency                  object        \n",
      " 3   Agency Name             object        \n",
      " 4   Complaint Type          object        \n",
      " 5   Descriptor              object        \n",
      " 6   Location Type           object        \n",
      " 7   Incident Zip            object        \n",
      " 8   City                    object        \n",
      " 9   Resolution Description  object        \n",
      " 10  Borough                 object        \n",
      " 11  Open Data Channel Type  object        \n",
      "dtypes: datetime64[ns](1), int64(1), object(10)\n",
      "memory usage: 3.0+ GB\n"
     ]
    }
   ],
   "source": [
    "CALL.info()"
   ]
  },
  {
   "cell_type": "code",
   "execution_count": 8,
   "id": "3c99551b-a8b5-4b23-be38-93533ace6621",
   "metadata": {
    "tags": []
   },
   "outputs": [],
   "source": [
    "# We make the index as a proper DatetimeIndex, and then delete the Created Date column"
   ]
  },
  {
   "cell_type": "code",
   "execution_count": 9,
   "id": "71c584eb-0c11-4b3a-af2f-a32ccfc24e24",
   "metadata": {
    "tags": []
   },
   "outputs": [],
   "source": [
    "CALL = CALL.set_index(pd.DatetimeIndex(CALL['Created Date']))\n"
   ]
  },
  {
   "cell_type": "code",
   "execution_count": 10,
   "id": "afc9af31-0b61-4469-b9bc-e576a0f0c51a",
   "metadata": {},
   "outputs": [
    {
     "name": "stdout",
     "output_type": "stream",
     "text": [
      "2010-01-01 00:00:00\n",
      "2023-08-04 12:00:00\n"
     ]
    }
   ],
   "source": [
    "# Check the maximum and the minimum dates in our data\n",
    "print(CALL.index.min())\n",
    "print(CALL.index.max())"
   ]
  },
  {
   "cell_type": "code",
   "execution_count": 11,
   "id": "bc357aa4-f956-4b44-95c4-5e8450627aa4",
   "metadata": {},
   "outputs": [],
   "source": [
    "#the earliest date is 2010-01-01, the lastest date is 2014-04-08"
   ]
  },
  {
   "cell_type": "code",
   "execution_count": 12,
   "id": "60651c13-c263-4169-8a1f-b5554d9cf61d",
   "metadata": {},
   "outputs": [
    {
     "data": {
      "text/plain": [
       "(33780977, 12)"
      ]
     },
     "execution_count": 12,
     "metadata": {},
     "output_type": "execute_result"
    }
   ],
   "source": [
    "CALL.shape"
   ]
  },
  {
   "cell_type": "code",
   "execution_count": 13,
   "id": "84b545c1-b798-4ca1-87d3-5141150ce68b",
   "metadata": {},
   "outputs": [
    {
     "data": {
      "text/plain": [
       "Index(['Unique Key', 'Created Date', 'Agency', 'Agency Name', 'Complaint Type',\n",
       "       'Descriptor', 'Location Type', 'Incident Zip', 'City',\n",
       "       'Resolution Description', 'Borough', 'Open Data Channel Type'],\n",
       "      dtype='object')"
      ]
     },
     "execution_count": 13,
     "metadata": {},
     "output_type": "execute_result"
    }
   ],
   "source": [
    "CALL.columns"
   ]
  },
  {
   "cell_type": "code",
   "execution_count": 14,
   "id": "635189af-8fac-4bc1-a752-d31e0a99f73c",
   "metadata": {},
   "outputs": [
    {
     "data": {
      "text/plain": [
       "Unique Key                      0\n",
       "Created Date                    0\n",
       "Agency                          0\n",
       "Agency Name                     0\n",
       "Complaint Type                  0\n",
       "Descriptor                 586677\n",
       "Location Type             7140574\n",
       "Incident Zip              1507958\n",
       "City                      1981664\n",
       "Resolution Description    1254890\n",
       "Borough                     47074\n",
       "Open Data Channel Type          0\n",
       "dtype: int64"
      ]
     },
     "execution_count": 14,
     "metadata": {},
     "output_type": "execute_result"
    }
   ],
   "source": [
    "CALL.isna().sum()"
   ]
  },
  {
   "cell_type": "code",
   "execution_count": 15,
   "id": "1cc9a664-7b87-47d0-ad22-0f3496a165de",
   "metadata": {},
   "outputs": [],
   "source": [
    "#import ydata_profiling\n",
    "#profile = ydata_profiling.ProfileReport(df, title = 'My EDA', minimal=True).to_file(\"output.html\")"
   ]
  },
  {
   "cell_type": "code",
   "execution_count": 16,
   "id": "7fc32ecc",
   "metadata": {},
   "outputs": [],
   "source": [
    "#get the daily average of 2022"
   ]
  },
  {
   "cell_type": "code",
   "execution_count": 17,
   "id": "6338e5a0",
   "metadata": {},
   "outputs": [
    {
     "data": {
      "text/html": [
       "<div>\n",
       "<style scoped>\n",
       "    .dataframe tbody tr th:only-of-type {\n",
       "        vertical-align: middle;\n",
       "    }\n",
       "\n",
       "    .dataframe tbody tr th {\n",
       "        vertical-align: top;\n",
       "    }\n",
       "\n",
       "    .dataframe thead th {\n",
       "        text-align: right;\n",
       "    }\n",
       "</style>\n",
       "<table border=\"1\" class=\"dataframe\">\n",
       "  <thead>\n",
       "    <tr style=\"text-align: right;\">\n",
       "      <th></th>\n",
       "      <th>Unique Key</th>\n",
       "    </tr>\n",
       "    <tr>\n",
       "      <th>Created Date</th>\n",
       "      <th></th>\n",
       "    </tr>\n",
       "  </thead>\n",
       "  <tbody>\n",
       "    <tr>\n",
       "      <th>2011-04-06 00:00:00</th>\n",
       "      <td>20184537</td>\n",
       "    </tr>\n",
       "    <tr>\n",
       "      <th>2011-04-06 00:00:00</th>\n",
       "      <td>20184538</td>\n",
       "    </tr>\n",
       "    <tr>\n",
       "      <th>2011-04-06 00:00:00</th>\n",
       "      <td>20184539</td>\n",
       "    </tr>\n",
       "    <tr>\n",
       "      <th>2022-07-08 11:14:43</th>\n",
       "      <td>54732265</td>\n",
       "    </tr>\n",
       "    <tr>\n",
       "      <th>2011-04-06 00:00:00</th>\n",
       "      <td>20184540</td>\n",
       "    </tr>\n",
       "    <tr>\n",
       "      <th>...</th>\n",
       "      <td>...</td>\n",
       "    </tr>\n",
       "    <tr>\n",
       "      <th>2011-04-06 00:00:00</th>\n",
       "      <td>20184532</td>\n",
       "    </tr>\n",
       "    <tr>\n",
       "      <th>2011-04-06 00:00:00</th>\n",
       "      <td>20184533</td>\n",
       "    </tr>\n",
       "    <tr>\n",
       "      <th>2011-04-06 00:00:00</th>\n",
       "      <td>20184534</td>\n",
       "    </tr>\n",
       "    <tr>\n",
       "      <th>2011-04-06 00:00:00</th>\n",
       "      <td>20184535</td>\n",
       "    </tr>\n",
       "    <tr>\n",
       "      <th>2011-04-06 00:00:00</th>\n",
       "      <td>20184536</td>\n",
       "    </tr>\n",
       "  </tbody>\n",
       "</table>\n",
       "<p>33780977 rows × 1 columns</p>\n",
       "</div>"
      ],
      "text/plain": [
       "                     Unique Key\n",
       "Created Date                   \n",
       "2011-04-06 00:00:00    20184537\n",
       "2011-04-06 00:00:00    20184538\n",
       "2011-04-06 00:00:00    20184539\n",
       "2022-07-08 11:14:43    54732265\n",
       "2011-04-06 00:00:00    20184540\n",
       "...                         ...\n",
       "2011-04-06 00:00:00    20184532\n",
       "2011-04-06 00:00:00    20184533\n",
       "2011-04-06 00:00:00    20184534\n",
       "2011-04-06 00:00:00    20184535\n",
       "2011-04-06 00:00:00    20184536\n",
       "\n",
       "[33780977 rows x 1 columns]"
      ]
     },
     "execution_count": 17,
     "metadata": {},
     "output_type": "execute_result"
    }
   ],
   "source": [
    "CALL_UK = CALL.loc[:,['Unique Key']]\n",
    "CALL_UK"
   ]
  },
  {
   "cell_type": "code",
   "execution_count": 18,
   "id": "5eae7040",
   "metadata": {
    "scrolled": false
   },
   "outputs": [
    {
     "data": {
      "text/html": [
       "<div>\n",
       "<style scoped>\n",
       "    .dataframe tbody tr th:only-of-type {\n",
       "        vertical-align: middle;\n",
       "    }\n",
       "\n",
       "    .dataframe tbody tr th {\n",
       "        vertical-align: top;\n",
       "    }\n",
       "\n",
       "    .dataframe thead th {\n",
       "        text-align: right;\n",
       "    }\n",
       "</style>\n",
       "<table border=\"1\" class=\"dataframe\">\n",
       "  <thead>\n",
       "    <tr style=\"text-align: right;\">\n",
       "      <th></th>\n",
       "      <th>Unique Key</th>\n",
       "    </tr>\n",
       "    <tr>\n",
       "      <th>Created Date</th>\n",
       "      <th></th>\n",
       "    </tr>\n",
       "  </thead>\n",
       "  <tbody>\n",
       "    <tr>\n",
       "      <th>2020-08-04</th>\n",
       "      <td>24415</td>\n",
       "    </tr>\n",
       "    <tr>\n",
       "      <th>2020-08-05</th>\n",
       "      <td>19560</td>\n",
       "    </tr>\n",
       "    <tr>\n",
       "      <th>2020-07-05</th>\n",
       "      <td>16916</td>\n",
       "    </tr>\n",
       "    <tr>\n",
       "      <th>2020-06-21</th>\n",
       "      <td>15883</td>\n",
       "    </tr>\n",
       "    <tr>\n",
       "      <th>2020-06-20</th>\n",
       "      <td>15825</td>\n",
       "    </tr>\n",
       "    <tr>\n",
       "      <th>...</th>\n",
       "      <td>...</td>\n",
       "    </tr>\n",
       "    <tr>\n",
       "      <th>2011-04-24</th>\n",
       "      <td>2264</td>\n",
       "    </tr>\n",
       "    <tr>\n",
       "      <th>2012-10-28</th>\n",
       "      <td>2237</td>\n",
       "    </tr>\n",
       "    <tr>\n",
       "      <th>2011-07-03</th>\n",
       "      <td>2123</td>\n",
       "    </tr>\n",
       "    <tr>\n",
       "      <th>2011-08-27</th>\n",
       "      <td>1730</td>\n",
       "    </tr>\n",
       "    <tr>\n",
       "      <th>2023-08-04</th>\n",
       "      <td>384</td>\n",
       "    </tr>\n",
       "  </tbody>\n",
       "</table>\n",
       "<p>4964 rows × 1 columns</p>\n",
       "</div>"
      ],
      "text/plain": [
       "              Unique Key\n",
       "Created Date            \n",
       "2020-08-04         24415\n",
       "2020-08-05         19560\n",
       "2020-07-05         16916\n",
       "2020-06-21         15883\n",
       "2020-06-20         15825\n",
       "...                  ...\n",
       "2011-04-24          2264\n",
       "2012-10-28          2237\n",
       "2011-07-03          2123\n",
       "2011-08-27          1730\n",
       "2023-08-04           384\n",
       "\n",
       "[4964 rows x 1 columns]"
      ]
     },
     "execution_count": 18,
     "metadata": {},
     "output_type": "execute_result"
    }
   ],
   "source": [
    "CALL_UK_D = CALL_UK.resample(rule = 'D').count().sort_values(by = 'Unique Key',ascending = False)\n",
    "CALL_UK_D"
   ]
  },
  {
   "cell_type": "code",
   "execution_count": 19,
   "id": "594529ed",
   "metadata": {},
   "outputs": [],
   "source": [
    "CALL_2022 = CALL_UK_D[(CALL_UK_D.index <= pd.to_datetime('2022-12-31')) & (CALL_UK_D.index >= pd.to_datetime('2022-01-01'))]"
   ]
  },
  {
   "cell_type": "code",
   "execution_count": 20,
   "id": "6292a259",
   "metadata": {},
   "outputs": [
    {
     "data": {
      "text/plain": [
       "Unique Key    8684.320548\n",
       "dtype: float64"
      ]
     },
     "execution_count": 20,
     "metadata": {},
     "output_type": "execute_result"
    }
   ],
   "source": [
    "CALL_2022.mean()"
   ]
  },
  {
   "cell_type": "code",
   "execution_count": 21,
   "id": "ff2b4287",
   "metadata": {},
   "outputs": [],
   "source": [
    "#get the single date were the maximum number of calls received"
   ]
  },
  {
   "cell_type": "code",
   "execution_count": 22,
   "id": "1e918d81",
   "metadata": {},
   "outputs": [],
   "source": [
    "max_day = CALL_UK_D.sort_values(by = 'Unique Key',ascending = False)"
   ]
  },
  {
   "cell_type": "code",
   "execution_count": 23,
   "id": "6e47a3bc",
   "metadata": {},
   "outputs": [
    {
     "data": {
      "text/html": [
       "<div>\n",
       "<style scoped>\n",
       "    .dataframe tbody tr th:only-of-type {\n",
       "        vertical-align: middle;\n",
       "    }\n",
       "\n",
       "    .dataframe tbody tr th {\n",
       "        vertical-align: top;\n",
       "    }\n",
       "\n",
       "    .dataframe thead th {\n",
       "        text-align: right;\n",
       "    }\n",
       "</style>\n",
       "<table border=\"1\" class=\"dataframe\">\n",
       "  <thead>\n",
       "    <tr style=\"text-align: right;\">\n",
       "      <th></th>\n",
       "      <th>Unique Key</th>\n",
       "      <th>Complaint Type</th>\n",
       "    </tr>\n",
       "    <tr>\n",
       "      <th>Created Date</th>\n",
       "      <th></th>\n",
       "      <th></th>\n",
       "    </tr>\n",
       "  </thead>\n",
       "  <tbody>\n",
       "    <tr>\n",
       "      <th>2011-04-06 00:00:00</th>\n",
       "      <td>20184537</td>\n",
       "      <td>HEATING</td>\n",
       "    </tr>\n",
       "    <tr>\n",
       "      <th>2011-04-06 00:00:00</th>\n",
       "      <td>20184538</td>\n",
       "      <td>GENERAL CONSTRUCTION</td>\n",
       "    </tr>\n",
       "    <tr>\n",
       "      <th>2011-04-06 00:00:00</th>\n",
       "      <td>20184539</td>\n",
       "      <td>PAINT - PLASTER</td>\n",
       "    </tr>\n",
       "    <tr>\n",
       "      <th>2022-07-08 11:14:43</th>\n",
       "      <td>54732265</td>\n",
       "      <td>Dirty Condition</td>\n",
       "    </tr>\n",
       "    <tr>\n",
       "      <th>2011-04-06 00:00:00</th>\n",
       "      <td>20184540</td>\n",
       "      <td>NONCONST</td>\n",
       "    </tr>\n",
       "    <tr>\n",
       "      <th>...</th>\n",
       "      <td>...</td>\n",
       "      <td>...</td>\n",
       "    </tr>\n",
       "    <tr>\n",
       "      <th>2011-04-06 00:00:00</th>\n",
       "      <td>20184532</td>\n",
       "      <td>HEATING</td>\n",
       "    </tr>\n",
       "    <tr>\n",
       "      <th>2011-04-06 00:00:00</th>\n",
       "      <td>20184533</td>\n",
       "      <td>HEATING</td>\n",
       "    </tr>\n",
       "    <tr>\n",
       "      <th>2011-04-06 00:00:00</th>\n",
       "      <td>20184534</td>\n",
       "      <td>GENERAL CONSTRUCTION</td>\n",
       "    </tr>\n",
       "    <tr>\n",
       "      <th>2011-04-06 00:00:00</th>\n",
       "      <td>20184535</td>\n",
       "      <td>GENERAL CONSTRUCTION</td>\n",
       "    </tr>\n",
       "    <tr>\n",
       "      <th>2011-04-06 00:00:00</th>\n",
       "      <td>20184536</td>\n",
       "      <td>PLUMBING</td>\n",
       "    </tr>\n",
       "  </tbody>\n",
       "</table>\n",
       "<p>33780977 rows × 2 columns</p>\n",
       "</div>"
      ],
      "text/plain": [
       "                     Unique Key        Complaint Type\n",
       "Created Date                                         \n",
       "2011-04-06 00:00:00    20184537               HEATING\n",
       "2011-04-06 00:00:00    20184538  GENERAL CONSTRUCTION\n",
       "2011-04-06 00:00:00    20184539       PAINT - PLASTER\n",
       "2022-07-08 11:14:43    54732265       Dirty Condition\n",
       "2011-04-06 00:00:00    20184540              NONCONST\n",
       "...                         ...                   ...\n",
       "2011-04-06 00:00:00    20184532               HEATING\n",
       "2011-04-06 00:00:00    20184533               HEATING\n",
       "2011-04-06 00:00:00    20184534  GENERAL CONSTRUCTION\n",
       "2011-04-06 00:00:00    20184535  GENERAL CONSTRUCTION\n",
       "2011-04-06 00:00:00    20184536              PLUMBING\n",
       "\n",
       "[33780977 rows x 2 columns]"
      ]
     },
     "execution_count": 23,
     "metadata": {},
     "output_type": "execute_result"
    }
   ],
   "source": [
    "CALL_COM = CALL.loc[:,['Unique Key','Complaint Type']]\n",
    "CALL_COM"
   ]
  },
  {
   "cell_type": "code",
   "execution_count": 24,
   "id": "e9bc8aa4",
   "metadata": {},
   "outputs": [
    {
     "data": {
      "text/html": [
       "<div>\n",
       "<style scoped>\n",
       "    .dataframe tbody tr th:only-of-type {\n",
       "        vertical-align: middle;\n",
       "    }\n",
       "\n",
       "    .dataframe tbody tr th {\n",
       "        vertical-align: top;\n",
       "    }\n",
       "\n",
       "    .dataframe thead th {\n",
       "        text-align: right;\n",
       "    }\n",
       "</style>\n",
       "<table border=\"1\" class=\"dataframe\">\n",
       "  <thead>\n",
       "    <tr style=\"text-align: right;\">\n",
       "      <th></th>\n",
       "      <th>Unique Key</th>\n",
       "    </tr>\n",
       "    <tr>\n",
       "      <th>Complaint Type</th>\n",
       "      <th></th>\n",
       "    </tr>\n",
       "  </thead>\n",
       "  <tbody>\n",
       "    <tr>\n",
       "      <th>Damaged Tree</th>\n",
       "      <td>14863</td>\n",
       "    </tr>\n",
       "    <tr>\n",
       "      <th>Noise - Residential</th>\n",
       "      <td>982</td>\n",
       "    </tr>\n",
       "    <tr>\n",
       "      <th>Request Large Bulky Item Collection</th>\n",
       "      <td>909</td>\n",
       "    </tr>\n",
       "    <tr>\n",
       "      <th>Street Light Condition</th>\n",
       "      <td>617</td>\n",
       "    </tr>\n",
       "    <tr>\n",
       "      <th>Overgrown Tree/Branches</th>\n",
       "      <td>609</td>\n",
       "    </tr>\n",
       "    <tr>\n",
       "      <th>...</th>\n",
       "      <td>...</td>\n",
       "    </tr>\n",
       "    <tr>\n",
       "      <th>For Hire Vehicle Report</th>\n",
       "      <td>1</td>\n",
       "    </tr>\n",
       "    <tr>\n",
       "      <th>LinkNYC</th>\n",
       "      <td>1</td>\n",
       "    </tr>\n",
       "    <tr>\n",
       "      <th>Public Payphone Complaint</th>\n",
       "      <td>1</td>\n",
       "    </tr>\n",
       "    <tr>\n",
       "      <th>Peeling Paint</th>\n",
       "      <td>1</td>\n",
       "    </tr>\n",
       "    <tr>\n",
       "      <th>Window Guard</th>\n",
       "      <td>1</td>\n",
       "    </tr>\n",
       "  </tbody>\n",
       "</table>\n",
       "<p>125 rows × 1 columns</p>\n",
       "</div>"
      ],
      "text/plain": [
       "                                     Unique Key\n",
       "Complaint Type                                 \n",
       "Damaged Tree                              14863\n",
       "Noise - Residential                         982\n",
       "Request Large Bulky Item Collection         909\n",
       "Street Light Condition                      617\n",
       "Overgrown Tree/Branches                     609\n",
       "...                                         ...\n",
       "For Hire Vehicle Report                       1\n",
       "LinkNYC                                       1\n",
       "Public Payphone Complaint                     1\n",
       "Peeling Paint                                 1\n",
       "Window Guard                                  1\n",
       "\n",
       "[125 rows x 1 columns]"
      ]
     },
     "execution_count": 24,
     "metadata": {},
     "output_type": "execute_result"
    }
   ],
   "source": [
    "all_max_day = CALL_COM[(CALL_COM.index <= '2020-08-05 00:00:00') & (CALL_COM.index >= '2020-08-04 00:00:00')]\n",
    "all_max_day.groupby(\"Complaint Type\").agg('count').sort_values(by='Unique Key',ascending = False)"
   ]
  },
  {
   "cell_type": "code",
   "execution_count": 25,
   "id": "4f3de6bf",
   "metadata": {},
   "outputs": [
    {
     "data": {
      "text/html": [
       "<div>\n",
       "<style scoped>\n",
       "    .dataframe tbody tr th:only-of-type {\n",
       "        vertical-align: middle;\n",
       "    }\n",
       "\n",
       "    .dataframe tbody tr th {\n",
       "        vertical-align: top;\n",
       "    }\n",
       "\n",
       "    .dataframe thead th {\n",
       "        text-align: right;\n",
       "    }\n",
       "</style>\n",
       "<table border=\"1\" class=\"dataframe\">\n",
       "  <thead>\n",
       "    <tr style=\"text-align: right;\">\n",
       "      <th></th>\n",
       "      <th>Unique Key</th>\n",
       "    </tr>\n",
       "    <tr>\n",
       "      <th>Created Date</th>\n",
       "      <th></th>\n",
       "    </tr>\n",
       "  </thead>\n",
       "  <tbody>\n",
       "    <tr>\n",
       "      <th>2023-08-31</th>\n",
       "      <td>28570</td>\n",
       "    </tr>\n",
       "    <tr>\n",
       "      <th>2012-04-30</th>\n",
       "      <td>137661</td>\n",
       "    </tr>\n",
       "    <tr>\n",
       "      <th>2012-02-29</th>\n",
       "      <td>138890</td>\n",
       "    </tr>\n",
       "    <tr>\n",
       "      <th>2013-09-30</th>\n",
       "      <td>139697</td>\n",
       "    </tr>\n",
       "    <tr>\n",
       "      <th>2012-09-30</th>\n",
       "      <td>142973</td>\n",
       "    </tr>\n",
       "    <tr>\n",
       "      <th>...</th>\n",
       "      <td>...</td>\n",
       "    </tr>\n",
       "    <tr>\n",
       "      <th>2021-10-31</th>\n",
       "      <td>308314</td>\n",
       "    </tr>\n",
       "    <tr>\n",
       "      <th>2020-06-30</th>\n",
       "      <td>313306</td>\n",
       "    </tr>\n",
       "    <tr>\n",
       "      <th>2020-07-31</th>\n",
       "      <td>316555</td>\n",
       "    </tr>\n",
       "    <tr>\n",
       "      <th>2021-09-30</th>\n",
       "      <td>317507</td>\n",
       "    </tr>\n",
       "    <tr>\n",
       "      <th>2020-08-31</th>\n",
       "      <td>348463</td>\n",
       "    </tr>\n",
       "  </tbody>\n",
       "</table>\n",
       "<p>164 rows × 1 columns</p>\n",
       "</div>"
      ],
      "text/plain": [
       "              Unique Key\n",
       "Created Date            \n",
       "2023-08-31         28570\n",
       "2012-04-30        137661\n",
       "2012-02-29        138890\n",
       "2013-09-30        139697\n",
       "2012-09-30        142973\n",
       "...                  ...\n",
       "2021-10-31        308314\n",
       "2020-06-30        313306\n",
       "2020-07-31        316555\n",
       "2021-09-30        317507\n",
       "2020-08-31        348463\n",
       "\n",
       "[164 rows x 1 columns]"
      ]
     },
     "execution_count": 25,
     "metadata": {},
     "output_type": "execute_result"
    }
   ],
   "source": [
    "CALL_UK.resample('M').count().sort_values(by = 'Unique Key',ascending = True)"
   ]
  },
  {
   "cell_type": "code",
   "execution_count": 26,
   "id": "7de578f8",
   "metadata": {},
   "outputs": [],
   "source": [
    "CALL_UK_T = CALL.loc[:,['Unique Key','Created Date']]"
   ]
  },
  {
   "cell_type": "code",
   "execution_count": 27,
   "id": "11a7055b",
   "metadata": {},
   "outputs": [
    {
     "data": {
      "text/html": [
       "<div>\n",
       "<style scoped>\n",
       "    .dataframe tbody tr th:only-of-type {\n",
       "        vertical-align: middle;\n",
       "    }\n",
       "\n",
       "    .dataframe tbody tr th {\n",
       "        vertical-align: top;\n",
       "    }\n",
       "\n",
       "    .dataframe thead th {\n",
       "        text-align: right;\n",
       "    }\n",
       "</style>\n",
       "<table border=\"1\" class=\"dataframe\">\n",
       "  <thead>\n",
       "    <tr style=\"text-align: right;\">\n",
       "      <th></th>\n",
       "      <th>Unique Key</th>\n",
       "    </tr>\n",
       "    <tr>\n",
       "      <th>month</th>\n",
       "      <th></th>\n",
       "    </tr>\n",
       "  </thead>\n",
       "  <tbody>\n",
       "    <tr>\n",
       "      <th>12</th>\n",
       "      <td>2596986</td>\n",
       "    </tr>\n",
       "  </tbody>\n",
       "</table>\n",
       "</div>"
      ],
      "text/plain": [
       "       Unique Key\n",
       "month            \n",
       "12        2596986"
      ]
     },
     "execution_count": 27,
     "metadata": {},
     "output_type": "execute_result"
    }
   ],
   "source": [
    "CALL_UK_M = CALL_UK.resample('M').count()\n",
    "\n",
    "CALL_UK_M['month'] = CALL_UK_M.index.month\n",
    "CALL_UK_M.groupby(['month']).agg('sum').sort_values(by='Unique Key', ascending = True).head(1)"
   ]
  },
  {
   "cell_type": "code",
   "execution_count": 28,
   "id": "958dc4d5",
   "metadata": {},
   "outputs": [],
   "source": [
    "#ETS decompostion"
   ]
  },
  {
   "cell_type": "code",
   "execution_count": 29,
   "id": "d8c6587e",
   "metadata": {},
   "outputs": [],
   "source": [
    "CALL_UK_D_S = CALL_UK_D.sort_index()"
   ]
  },
  {
   "cell_type": "code",
   "execution_count": 30,
   "id": "e8acd9e1",
   "metadata": {},
   "outputs": [],
   "source": [
    "import matplotlib.pyplot as plt\n",
    "from statsmodels.tsa.seasonal import seasonal_decompose"
   ]
  },
  {
   "cell_type": "code",
   "execution_count": 31,
   "id": "bb8b2e99",
   "metadata": {},
   "outputs": [],
   "source": [
    "result = seasonal_decompose(CALL_UK_D_S['Unique Key'], model = 'additive') "
   ]
  },
  {
   "cell_type": "code",
   "execution_count": 32,
   "id": "3e80761e",
   "metadata": {},
   "outputs": [
    {
     "data": {
      "image/png": "[encoded data removed]",
      "text/plain": [
       "<Figure size 1440x648 with 4 Axes>"
      ]
     },
     "metadata": {
      "needs_background": "light"
     },
     "output_type": "display_data"
    }
   ],
   "source": [
    "# We use the additive model\n",
    "\n",
    "plt.rcParams['figure.figsize'] = (20, 9)\n",
    "result.plot();"
   ]
  },
  {
   "cell_type": "code",
   "execution_count": 33,
   "id": "73779f4c-d37e-49a4-845a-b16de061e0c8",
   "metadata": {},
   "outputs": [
    {
     "data": {
      "text/html": [
       "<div>\n",
       "<style scoped>\n",
       "    .dataframe tbody tr th:only-of-type {\n",
       "        vertical-align: middle;\n",
       "    }\n",
       "\n",
       "    .dataframe tbody tr th {\n",
       "        vertical-align: top;\n",
       "    }\n",
       "\n",
       "    .dataframe thead th {\n",
       "        text-align: right;\n",
       "    }\n",
       "</style>\n",
       "<table border=\"1\" class=\"dataframe\">\n",
       "  <thead>\n",
       "    <tr style=\"text-align: right;\">\n",
       "      <th></th>\n",
       "      <th>Unique Key</th>\n",
       "      <th>trend</th>\n",
       "      <th>seasonality</th>\n",
       "      <th>error</th>\n",
       "    </tr>\n",
       "    <tr>\n",
       "      <th>Created Date</th>\n",
       "      <th></th>\n",
       "      <th></th>\n",
       "      <th></th>\n",
       "      <th></th>\n",
       "    </tr>\n",
       "  </thead>\n",
       "  <tbody>\n",
       "    <tr>\n",
       "      <th>2020-12-25</th>\n",
       "      <td>5027</td>\n",
       "      <td>6411.428571</td>\n",
       "      <td>182.697638</td>\n",
       "      <td>-1567.126209</td>\n",
       "    </tr>\n",
       "  </tbody>\n",
       "</table>\n",
       "</div>"
      ],
      "text/plain": [
       "              Unique Key        trend  seasonality        error\n",
       "Created Date                                                   \n",
       "2020-12-25          5027  6411.428571   182.697638 -1567.126209"
      ]
     },
     "execution_count": 33,
     "metadata": {},
     "output_type": "execute_result"
    }
   ],
   "source": [
    "# Each of the above components are contained in our `result`\n",
    "# object as trend, seasonal and error.\n",
    "# Let us put them in a dataframe\n",
    "ets = pd.DataFrame({'Unique Key': CALL_UK_D_S['Unique Key'], \n",
    "              'trend': result.trend, \n",
    "              'seasonality': result.seasonal, \n",
    "              'error': result.resid})\n",
    "# ets.to_excel('ets_mul.xlsx')\n",
    "\n",
    "ets[(ets.index < '2020-12-26 00:00:00') & (ets.index >= '2020-12-25 00:00:00')]"
   ]
  },
  {
   "cell_type": "code",
   "execution_count": 34,
   "id": "6fb5a13a-ddd4-4491-b8d0-537e4f9964f9",
   "metadata": {},
   "outputs": [
    {
     "data": {
      "image/png": "[encoded data removed]",
      "text/plain": [
       "<Figure size 1296x288 with 1 Axes>"
      ]
     },
     "metadata": {
      "needs_background": "light"
     },
     "output_type": "display_data"
    }
   ],
   "source": [
    "# Autocorrelation plots for frequency \n",
    "plt.rc(\"figure\", figsize=(18,4))\n",
    "from statsmodels.graphics.tsaplots import plot_acf\n",
    "plot_acf(CALL_UK_D_S['Unique Key']);\n"
   ]
  },
  {
   "cell_type": "code",
   "execution_count": 35,
   "id": "fb27d46b",
   "metadata": {},
   "outputs": [
    {
     "data": {
      "text/plain": [
       "array([1.        , 0.75051424, 0.5385677 , 0.48763193, 0.47912318,\n",
       "       0.50367422, 0.65325166, 0.78735576, 0.64024251, 0.47810689,\n",
       "       0.4412852 , 0.43245455, 0.45933263, 0.61601086, 0.75916101,\n",
       "       0.61690178, 0.46145806, 0.4277244 , 0.42450554, 0.4555627 ,\n",
       "       0.61056881, 0.74821479, 0.60717727, 0.4484158 , 0.41633872,\n",
       "       0.41518982, 0.45040719, 0.59985602, 0.73376054, 0.59641813,\n",
       "       0.44172261, 0.4143002 , 0.41500839, 0.44366085, 0.59565884,\n",
       "       0.73652828, 0.59316864])"
      ]
     },
     "execution_count": 35,
     "metadata": {},
     "output_type": "execute_result"
    }
   ],
   "source": [
    "# Get raw values for auto-correlations\n",
    "\n",
    "from statsmodels.tsa.stattools import acf\n",
    "acf(CALL_UK_D_S['Unique Key'])"
   ]
  },
  {
   "cell_type": "code",
   "execution_count": 36,
   "id": "9391c307",
   "metadata": {},
   "outputs": [
    {
     "data": {
      "text/plain": [
       "[(0, 1.0),\n",
       " (1, 0.7505142364756073),\n",
       " (2, 0.5385677005464163),\n",
       " (3, 0.4876319349471612),\n",
       " (4, 0.47912317586861014),\n",
       " (5, 0.5036742164042234),\n",
       " (6, 0.6532516645683314),\n",
       " (7, 0.7873557591053877),\n",
       " (8, 0.6402425082224174),\n",
       " (9, 0.4781068899314745),\n",
       " (10, 0.44128520422701517),\n",
       " (11, 0.43245454663032395),\n",
       " (12, 0.45933262752022097),\n",
       " (13, 0.6160108562208476),\n",
       " (14, 0.7591610121270015),\n",
       " (15, 0.6169017761087279),\n",
       " (16, 0.46145805728555667),\n",
       " (17, 0.4277243963001102),\n",
       " (18, 0.4245055433765635),\n",
       " (19, 0.45556269608625855),\n",
       " (20, 0.6105688068921138),\n",
       " (21, 0.7482147856274084),\n",
       " (22, 0.6071772694322987),\n",
       " (23, 0.44841580285332344),\n",
       " (24, 0.4163387168357927),\n",
       " (25, 0.4151898156499598),\n",
       " (26, 0.45040718958726733),\n",
       " (27, 0.5998560199396321),\n",
       " (28, 0.7337605423131681),\n",
       " (29, 0.5964181344488516),\n",
       " (30, 0.44172261087389936),\n",
       " (31, 0.41430019827396114),\n",
       " (32, 0.41500839499299474),\n",
       " (33, 0.443660849177503),\n",
       " (34, 0.5956588412234556),\n",
       " (35, 0.7365282791908934),\n",
       " (36, 0.5931686446827368)]"
      ]
     },
     "execution_count": 36,
     "metadata": {},
     "output_type": "execute_result"
    }
   ],
   "source": [
    "# Slightly nicer output making it easy to read lag and correlation\n",
    "[(n,x ) for n, x in enumerate(acf(CALL_UK_D_S['Unique Key']))]"
   ]
  },
  {
   "cell_type": "code",
   "execution_count": 38,
   "id": "6c90f802",
   "metadata": {},
   "outputs": [],
   "source": [
    "#FB Prophet\n",
    "from prophet import Prophet"
   ]
  },
  {
   "cell_type": "code",
   "execution_count": null,
   "id": "1ae1491f",
   "metadata": {},
   "outputs": [],
   "source": []
  },
  {
   "cell_type": "code",
   "execution_count": 39,
   "id": "cd39075f",
   "metadata": {},
   "outputs": [
    {
     "name": "stdout",
     "output_type": "stream",
     "text": [
      "Training set:  4874\n",
      "Test set:  90\n"
     ]
    }
   ],
   "source": [
    "# Train-test split, test set is 90 days\n",
    "train_samples = int(CALL_UK_D_S.shape[0])-90\n",
    "\n",
    "train_set = CALL_UK_D_S.iloc[:train_samples]\n",
    "test_set = CALL_UK_D_S.iloc[train_samples:]\n",
    "\n",
    "print(\"Training set: \", train_set.shape[0])\n",
    "print(\"Test set: \", test_set.shape[0])"
   ]
  },
  {
   "cell_type": "code",
   "execution_count": 40,
   "id": "9bb0245e",
   "metadata": {},
   "outputs": [
    {
     "data": {
      "text/html": [
       "<div>\n",
       "<style scoped>\n",
       "    .dataframe tbody tr th:only-of-type {\n",
       "        vertical-align: middle;\n",
       "    }\n",
       "\n",
       "    .dataframe tbody tr th {\n",
       "        vertical-align: top;\n",
       "    }\n",
       "\n",
       "    .dataframe thead th {\n",
       "        text-align: right;\n",
       "    }\n",
       "</style>\n",
       "<table border=\"1\" class=\"dataframe\">\n",
       "  <thead>\n",
       "    <tr style=\"text-align: right;\">\n",
       "      <th></th>\n",
       "      <th>Unique Key</th>\n",
       "    </tr>\n",
       "    <tr>\n",
       "      <th>Created Date</th>\n",
       "      <th></th>\n",
       "    </tr>\n",
       "  </thead>\n",
       "  <tbody>\n",
       "    <tr>\n",
       "      <th>2010-01-01</th>\n",
       "      <td>2942</td>\n",
       "    </tr>\n",
       "    <tr>\n",
       "      <th>2010-01-02</th>\n",
       "      <td>3958</td>\n",
       "    </tr>\n",
       "    <tr>\n",
       "      <th>2010-01-03</th>\n",
       "      <td>5676</td>\n",
       "    </tr>\n",
       "    <tr>\n",
       "      <th>2010-01-04</th>\n",
       "      <td>9763</td>\n",
       "    </tr>\n",
       "    <tr>\n",
       "      <th>2010-01-05</th>\n",
       "      <td>8735</td>\n",
       "    </tr>\n",
       "  </tbody>\n",
       "</table>\n",
       "</div>"
      ],
      "text/plain": [
       "              Unique Key\n",
       "Created Date            \n",
       "2010-01-01          2942\n",
       "2010-01-02          3958\n",
       "2010-01-03          5676\n",
       "2010-01-04          9763\n",
       "2010-01-05          8735"
      ]
     },
     "execution_count": 40,
     "metadata": {},
     "output_type": "execute_result"
    }
   ],
   "source": [
    "train_set.head()"
   ]
  },
  {
   "cell_type": "code",
   "execution_count": 41,
   "id": "0907d641",
   "metadata": {},
   "outputs": [
    {
     "data": {
      "text/html": [
       "<div>\n",
       "<style scoped>\n",
       "    .dataframe tbody tr th:only-of-type {\n",
       "        vertical-align: middle;\n",
       "    }\n",
       "\n",
       "    .dataframe tbody tr th {\n",
       "        vertical-align: top;\n",
       "    }\n",
       "\n",
       "    .dataframe thead th {\n",
       "        text-align: right;\n",
       "    }\n",
       "</style>\n",
       "<table border=\"1\" class=\"dataframe\">\n",
       "  <thead>\n",
       "    <tr style=\"text-align: right;\">\n",
       "      <th></th>\n",
       "      <th>ds</th>\n",
       "      <th>y</th>\n",
       "    </tr>\n",
       "  </thead>\n",
       "  <tbody>\n",
       "    <tr>\n",
       "      <th>0</th>\n",
       "      <td>2010-01-01</td>\n",
       "      <td>2942</td>\n",
       "    </tr>\n",
       "    <tr>\n",
       "      <th>1</th>\n",
       "      <td>2010-01-02</td>\n",
       "      <td>3958</td>\n",
       "    </tr>\n",
       "    <tr>\n",
       "      <th>2</th>\n",
       "      <td>2010-01-03</td>\n",
       "      <td>5676</td>\n",
       "    </tr>\n",
       "    <tr>\n",
       "      <th>3</th>\n",
       "      <td>2010-01-04</td>\n",
       "      <td>9763</td>\n",
       "    </tr>\n",
       "    <tr>\n",
       "      <th>4</th>\n",
       "      <td>2010-01-05</td>\n",
       "      <td>8735</td>\n",
       "    </tr>\n",
       "  </tbody>\n",
       "</table>\n",
       "</div>"
      ],
      "text/plain": [
       "          ds     y\n",
       "0 2010-01-01  2942\n",
       "1 2010-01-02  3958\n",
       "2 2010-01-03  5676\n",
       "3 2010-01-04  9763\n",
       "4 2010-01-05  8735"
      ]
     },
     "execution_count": 41,
     "metadata": {},
     "output_type": "execute_result"
    }
   ],
   "source": [
    "# Create the ds and y columns for Prophet\n",
    "train_set_prophet = train_set.reset_index()\n",
    "train_set_prophet = train_set_prophet[['Created Date', 'Unique Key']]\n",
    "train_set_prophet.columns = ['ds', 'y']\n",
    "train_set_prophet.head()"
   ]
  },
  {
   "cell_type": "code",
   "execution_count": 42,
   "id": "34b02e9b",
   "metadata": {},
   "outputs": [
    {
     "name": "stderr",
     "output_type": "stream",
     "text": [
      "01:16:58 - cmdstanpy - INFO - Chain [1] start processing\n",
      "01:17:00 - cmdstanpy - INFO - Chain [1] done processing\n"
     ]
    },
    {
     "data": {
      "text/plain": [
       "<prophet.forecaster.Prophet at 0x7fa54c7c7fd0>"
      ]
     },
     "execution_count": 42,
     "metadata": {},
     "output_type": "execute_result"
    }
   ],
   "source": [
    "model = Prophet()\n",
    "model.fit(train_set_prophet)"
   ]
  },
  {
   "cell_type": "code",
   "execution_count": 63,
   "id": "77bc5fed",
   "metadata": {},
   "outputs": [
    {
     "data": {
      "text/html": [
       "<div>\n",
       "<style scoped>\n",
       "    .dataframe tbody tr th:only-of-type {\n",
       "        vertical-align: middle;\n",
       "    }\n",
       "\n",
       "    .dataframe tbody tr th {\n",
       "        vertical-align: top;\n",
       "    }\n",
       "\n",
       "    .dataframe thead th {\n",
       "        text-align: right;\n",
       "    }\n",
       "</style>\n",
       "<table border=\"1\" class=\"dataframe\">\n",
       "  <thead>\n",
       "    <tr style=\"text-align: right;\">\n",
       "      <th></th>\n",
       "      <th>ds</th>\n",
       "    </tr>\n",
       "  </thead>\n",
       "  <tbody>\n",
       "    <tr>\n",
       "      <th>4959</th>\n",
       "      <td>2023-07-31</td>\n",
       "    </tr>\n",
       "    <tr>\n",
       "      <th>4960</th>\n",
       "      <td>2023-08-01</td>\n",
       "    </tr>\n",
       "    <tr>\n",
       "      <th>4961</th>\n",
       "      <td>2023-08-02</td>\n",
       "    </tr>\n",
       "    <tr>\n",
       "      <th>4962</th>\n",
       "      <td>2023-08-03</td>\n",
       "    </tr>\n",
       "    <tr>\n",
       "      <th>4963</th>\n",
       "      <td>2023-08-04</td>\n",
       "    </tr>\n",
       "  </tbody>\n",
       "</table>\n",
       "</div>"
      ],
      "text/plain": [
       "             ds\n",
       "4959 2023-07-31\n",
       "4960 2023-08-01\n",
       "4961 2023-08-02\n",
       "4962 2023-08-03\n",
       "4963 2023-08-04"
      ]
     },
     "execution_count": 63,
     "metadata": {},
     "output_type": "execute_result"
    }
   ],
   "source": [
    "future = model.make_future_dataframe(periods=90,freq = 'd')\n",
    "future.tail()"
   ]
  },
  {
   "cell_type": "code",
   "execution_count": 64,
   "id": "3929f3b0",
   "metadata": {},
   "outputs": [
    {
     "data": {
      "text/plain": [
       "(4964, 1)"
      ]
     },
     "execution_count": 64,
     "metadata": {},
     "output_type": "execute_result"
    }
   ],
   "source": [
    "future.shape"
   ]
  },
  {
   "cell_type": "code",
   "execution_count": 65,
   "id": "76b26bfc",
   "metadata": {},
   "outputs": [],
   "source": [
    "# Python\n",
    "forecast = model.predict(future)"
   ]
  },
  {
   "cell_type": "code",
   "execution_count": 66,
   "id": "b83d244a",
   "metadata": {},
   "outputs": [
    {
     "data": {
      "text/plain": [
       "Index(['ds', 'trend', 'yhat_lower', 'yhat_upper', 'trend_lower', 'trend_upper',\n",
       "       'additive_terms', 'additive_terms_lower', 'additive_terms_upper',\n",
       "       'weekly', 'weekly_lower', 'weekly_upper', 'yearly', 'yearly_lower',\n",
       "       'yearly_upper', 'multiplicative_terms', 'multiplicative_terms_lower',\n",
       "       'multiplicative_terms_upper', 'yhat'],\n",
       "      dtype='object')"
      ]
     },
     "execution_count": 66,
     "metadata": {},
     "output_type": "execute_result"
    }
   ],
   "source": [
    "forecast.columns"
   ]
  },
  {
   "cell_type": "code",
   "execution_count": 67,
   "id": "05394f9c",
   "metadata": {},
   "outputs": [
    {
     "data": {
      "text/html": [
       "<div>\n",
       "<style scoped>\n",
       "    .dataframe tbody tr th:only-of-type {\n",
       "        vertical-align: middle;\n",
       "    }\n",
       "\n",
       "    .dataframe tbody tr th {\n",
       "        vertical-align: top;\n",
       "    }\n",
       "\n",
       "    .dataframe thead th {\n",
       "        text-align: right;\n",
       "    }\n",
       "</style>\n",
       "<table border=\"1\" class=\"dataframe\">\n",
       "  <thead>\n",
       "    <tr style=\"text-align: right;\">\n",
       "      <th></th>\n",
       "      <th>ds</th>\n",
       "      <th>trend</th>\n",
       "      <th>yhat_lower</th>\n",
       "      <th>yhat_upper</th>\n",
       "      <th>trend_lower</th>\n",
       "      <th>trend_upper</th>\n",
       "      <th>additive_terms</th>\n",
       "      <th>additive_terms_lower</th>\n",
       "      <th>additive_terms_upper</th>\n",
       "      <th>weekly</th>\n",
       "      <th>weekly_lower</th>\n",
       "      <th>weekly_upper</th>\n",
       "      <th>yearly</th>\n",
       "      <th>yearly_lower</th>\n",
       "      <th>yearly_upper</th>\n",
       "      <th>multiplicative_terms</th>\n",
       "      <th>multiplicative_terms_lower</th>\n",
       "      <th>multiplicative_terms_upper</th>\n",
       "      <th>yhat</th>\n",
       "    </tr>\n",
       "  </thead>\n",
       "  <tbody>\n",
       "    <tr>\n",
       "      <th>0</th>\n",
       "      <td>2010-01-01</td>\n",
       "      <td>5954.354615</td>\n",
       "      <td>4189.458387</td>\n",
       "      <td>6980.985153</td>\n",
       "      <td>5954.354615</td>\n",
       "      <td>5954.354615</td>\n",
       "      <td>-347.077044</td>\n",
       "      <td>-347.077044</td>\n",
       "      <td>-347.077044</td>\n",
       "      <td>183.228207</td>\n",
       "      <td>183.228207</td>\n",
       "      <td>183.228207</td>\n",
       "      <td>-530.305251</td>\n",
       "      <td>-530.305251</td>\n",
       "      <td>-530.305251</td>\n",
       "      <td>0.0</td>\n",
       "      <td>0.0</td>\n",
       "      <td>0.0</td>\n",
       "      <td>5607.277571</td>\n",
       "    </tr>\n",
       "    <tr>\n",
       "      <th>1</th>\n",
       "      <td>2010-01-02</td>\n",
       "      <td>5953.248169</td>\n",
       "      <td>2938.756450</td>\n",
       "      <td>5710.437762</td>\n",
       "      <td>5953.248169</td>\n",
       "      <td>5953.248169</td>\n",
       "      <td>-1588.817907</td>\n",
       "      <td>-1588.817907</td>\n",
       "      <td>-1588.817907</td>\n",
       "      <td>-1101.541144</td>\n",
       "      <td>-1101.541144</td>\n",
       "      <td>-1101.541144</td>\n",
       "      <td>-487.276763</td>\n",
       "      <td>-487.276763</td>\n",
       "      <td>-487.276763</td>\n",
       "      <td>0.0</td>\n",
       "      <td>0.0</td>\n",
       "      <td>0.0</td>\n",
       "      <td>4364.430262</td>\n",
       "    </tr>\n",
       "    <tr>\n",
       "      <th>2</th>\n",
       "      <td>2010-01-03</td>\n",
       "      <td>5952.141723</td>\n",
       "      <td>2741.250849</td>\n",
       "      <td>5619.174951</td>\n",
       "      <td>5952.141723</td>\n",
       "      <td>5952.141723</td>\n",
       "      <td>-1775.941788</td>\n",
       "      <td>-1775.941788</td>\n",
       "      <td>-1775.941788</td>\n",
       "      <td>-1337.426506</td>\n",
       "      <td>-1337.426506</td>\n",
       "      <td>-1337.426506</td>\n",
       "      <td>-438.515282</td>\n",
       "      <td>-438.515282</td>\n",
       "      <td>-438.515282</td>\n",
       "      <td>0.0</td>\n",
       "      <td>0.0</td>\n",
       "      <td>0.0</td>\n",
       "      <td>4176.199935</td>\n",
       "    </tr>\n",
       "    <tr>\n",
       "      <th>3</th>\n",
       "      <td>2010-01-04</td>\n",
       "      <td>5951.035277</td>\n",
       "      <td>4798.780593</td>\n",
       "      <td>7526.626818</td>\n",
       "      <td>5951.035277</td>\n",
       "      <td>5951.035277</td>\n",
       "      <td>256.011991</td>\n",
       "      <td>256.011991</td>\n",
       "      <td>256.011991</td>\n",
       "      <td>640.813618</td>\n",
       "      <td>640.813618</td>\n",
       "      <td>640.813618</td>\n",
       "      <td>-384.801627</td>\n",
       "      <td>-384.801627</td>\n",
       "      <td>-384.801627</td>\n",
       "      <td>0.0</td>\n",
       "      <td>0.0</td>\n",
       "      <td>0.0</td>\n",
       "      <td>6207.047269</td>\n",
       "    </tr>\n",
       "    <tr>\n",
       "      <th>4</th>\n",
       "      <td>2010-01-05</td>\n",
       "      <td>5949.928831</td>\n",
       "      <td>4955.267927</td>\n",
       "      <td>7688.825517</td>\n",
       "      <td>5949.928831</td>\n",
       "      <td>5949.928831</td>\n",
       "      <td>369.648701</td>\n",
       "      <td>369.648701</td>\n",
       "      <td>369.648701</td>\n",
       "      <td>696.666654</td>\n",
       "      <td>696.666654</td>\n",
       "      <td>696.666654</td>\n",
       "      <td>-327.017954</td>\n",
       "      <td>-327.017954</td>\n",
       "      <td>-327.017954</td>\n",
       "      <td>0.0</td>\n",
       "      <td>0.0</td>\n",
       "      <td>0.0</td>\n",
       "      <td>6319.577532</td>\n",
       "    </tr>\n",
       "  </tbody>\n",
       "</table>\n",
       "</div>"
      ],
      "text/plain": [
       "          ds        trend   yhat_lower   yhat_upper  trend_lower  trend_upper  \\\n",
       "0 2010-01-01  5954.354615  4189.458387  6980.985153  5954.354615  5954.354615   \n",
       "1 2010-01-02  5953.248169  2938.756450  5710.437762  5953.248169  5953.248169   \n",
       "2 2010-01-03  5952.141723  2741.250849  5619.174951  5952.141723  5952.141723   \n",
       "3 2010-01-04  5951.035277  4798.780593  7526.626818  5951.035277  5951.035277   \n",
       "4 2010-01-05  5949.928831  4955.267927  7688.825517  5949.928831  5949.928831   \n",
       "\n",
       "   additive_terms  additive_terms_lower  additive_terms_upper       weekly  \\\n",
       "0     -347.077044           -347.077044           -347.077044   183.228207   \n",
       "1    -1588.817907          -1588.817907          -1588.817907 -1101.541144   \n",
       "2    -1775.941788          -1775.941788          -1775.941788 -1337.426506   \n",
       "3      256.011991            256.011991            256.011991   640.813618   \n",
       "4      369.648701            369.648701            369.648701   696.666654   \n",
       "\n",
       "   weekly_lower  weekly_upper      yearly  yearly_lower  yearly_upper  \\\n",
       "0    183.228207    183.228207 -530.305251   -530.305251   -530.305251   \n",
       "1  -1101.541144  -1101.541144 -487.276763   -487.276763   -487.276763   \n",
       "2  -1337.426506  -1337.426506 -438.515282   -438.515282   -438.515282   \n",
       "3    640.813618    640.813618 -384.801627   -384.801627   -384.801627   \n",
       "4    696.666654    696.666654 -327.017954   -327.017954   -327.017954   \n",
       "\n",
       "   multiplicative_terms  multiplicative_terms_lower  \\\n",
       "0                   0.0                         0.0   \n",
       "1                   0.0                         0.0   \n",
       "2                   0.0                         0.0   \n",
       "3                   0.0                         0.0   \n",
       "4                   0.0                         0.0   \n",
       "\n",
       "   multiplicative_terms_upper         yhat  \n",
       "0                         0.0  5607.277571  \n",
       "1                         0.0  4364.430262  \n",
       "2                         0.0  4176.199935  \n",
       "3                         0.0  6207.047269  \n",
       "4                         0.0  6319.577532  "
      ]
     },
     "execution_count": 67,
     "metadata": {},
     "output_type": "execute_result"
    }
   ],
   "source": [
    "forecast.head()"
   ]
  },
  {
   "cell_type": "code",
   "execution_count": 68,
   "id": "644182d2",
   "metadata": {},
   "outputs": [
    {
     "data": {
      "text/html": [
       "<div>\n",
       "<style scoped>\n",
       "    .dataframe tbody tr th:only-of-type {\n",
       "        vertical-align: middle;\n",
       "    }\n",
       "\n",
       "    .dataframe tbody tr th {\n",
       "        vertical-align: top;\n",
       "    }\n",
       "\n",
       "    .dataframe thead th {\n",
       "        text-align: right;\n",
       "    }\n",
       "</style>\n",
       "<table border=\"1\" class=\"dataframe\">\n",
       "  <thead>\n",
       "    <tr style=\"text-align: right;\">\n",
       "      <th></th>\n",
       "      <th>Prediction</th>\n",
       "    </tr>\n",
       "    <tr>\n",
       "      <th>Date</th>\n",
       "      <th></th>\n",
       "    </tr>\n",
       "  </thead>\n",
       "  <tbody>\n",
       "    <tr>\n",
       "      <th>2023-05-07</th>\n",
       "      <td>7219.547517</td>\n",
       "    </tr>\n",
       "    <tr>\n",
       "      <th>2023-05-08</th>\n",
       "      <td>9206.425113</td>\n",
       "    </tr>\n",
       "    <tr>\n",
       "      <th>2023-05-09</th>\n",
       "      <td>9267.871065</td>\n",
       "    </tr>\n",
       "    <tr>\n",
       "      <th>2023-05-10</th>\n",
       "      <td>9107.774151</td>\n",
       "    </tr>\n",
       "    <tr>\n",
       "      <th>2023-05-11</th>\n",
       "      <td>8958.311578</td>\n",
       "    </tr>\n",
       "    <tr>\n",
       "      <th>...</th>\n",
       "      <td>...</td>\n",
       "    </tr>\n",
       "    <tr>\n",
       "      <th>2023-07-31</th>\n",
       "      <td>9552.056178</td>\n",
       "    </tr>\n",
       "    <tr>\n",
       "      <th>2023-08-01</th>\n",
       "      <td>9599.849004</td>\n",
       "    </tr>\n",
       "    <tr>\n",
       "      <th>2023-08-02</th>\n",
       "      <td>9426.091683</td>\n",
       "    </tr>\n",
       "    <tr>\n",
       "      <th>2023-08-03</th>\n",
       "      <td>9262.739148</td>\n",
       "    </tr>\n",
       "    <tr>\n",
       "      <th>2023-08-04</th>\n",
       "      <td>9044.869746</td>\n",
       "    </tr>\n",
       "  </tbody>\n",
       "</table>\n",
       "<p>90 rows × 1 columns</p>\n",
       "</div>"
      ],
      "text/plain": [
       "             Prediction\n",
       "Date                   \n",
       "2023-05-07  7219.547517\n",
       "2023-05-08  9206.425113\n",
       "2023-05-09  9267.871065\n",
       "2023-05-10  9107.774151\n",
       "2023-05-11  8958.311578\n",
       "...                 ...\n",
       "2023-07-31  9552.056178\n",
       "2023-08-01  9599.849004\n",
       "2023-08-02  9426.091683\n",
       "2023-08-03  9262.739148\n",
       "2023-08-04  9044.869746\n",
       "\n",
       "[90 rows x 1 columns]"
      ]
     },
     "execution_count": 68,
     "metadata": {},
     "output_type": "execute_result"
    }
   ],
   "source": [
    "preds = pd.DataFrame({'Prediction': forecast.yhat[-90:]})\n",
    "preds.index = pd.to_datetime(forecast.ds[-90:])\n",
    "preds.index.names = ['Date']\n",
    "preds"
   ]
  },
  {
   "cell_type": "code",
   "execution_count": 69,
   "id": "07cd4336",
   "metadata": {},
   "outputs": [
    {
     "data": {
      "text/html": [
       "<div>\n",
       "<style scoped>\n",
       "    .dataframe tbody tr th:only-of-type {\n",
       "        vertical-align: middle;\n",
       "    }\n",
       "\n",
       "    .dataframe tbody tr th {\n",
       "        vertical-align: top;\n",
       "    }\n",
       "\n",
       "    .dataframe thead th {\n",
       "        text-align: right;\n",
       "    }\n",
       "</style>\n",
       "<table border=\"1\" class=\"dataframe\">\n",
       "  <thead>\n",
       "    <tr style=\"text-align: right;\">\n",
       "      <th></th>\n",
       "      <th>y_test</th>\n",
       "      <th>y_pred</th>\n",
       "      <th>diff</th>\n",
       "    </tr>\n",
       "  </thead>\n",
       "  <tbody>\n",
       "    <tr>\n",
       "      <th>2023-05-07</th>\n",
       "      <td>9102</td>\n",
       "      <td>7219.547517</td>\n",
       "      <td>1882.452483</td>\n",
       "    </tr>\n",
       "    <tr>\n",
       "      <th>2023-05-08</th>\n",
       "      <td>9709</td>\n",
       "      <td>9206.425113</td>\n",
       "      <td>502.574887</td>\n",
       "    </tr>\n",
       "    <tr>\n",
       "      <th>2023-05-09</th>\n",
       "      <td>9309</td>\n",
       "      <td>9267.871065</td>\n",
       "      <td>41.128935</td>\n",
       "    </tr>\n",
       "    <tr>\n",
       "      <th>2023-05-10</th>\n",
       "      <td>9110</td>\n",
       "      <td>9107.774151</td>\n",
       "      <td>2.225849</td>\n",
       "    </tr>\n",
       "    <tr>\n",
       "      <th>2023-05-11</th>\n",
       "      <td>9155</td>\n",
       "      <td>8958.311578</td>\n",
       "      <td>196.688422</td>\n",
       "    </tr>\n",
       "    <tr>\n",
       "      <th>...</th>\n",
       "      <td>...</td>\n",
       "      <td>...</td>\n",
       "      <td>...</td>\n",
       "    </tr>\n",
       "    <tr>\n",
       "      <th>2023-07-31</th>\n",
       "      <td>9921</td>\n",
       "      <td>9552.056178</td>\n",
       "      <td>368.943822</td>\n",
       "    </tr>\n",
       "    <tr>\n",
       "      <th>2023-08-01</th>\n",
       "      <td>9813</td>\n",
       "      <td>9599.849004</td>\n",
       "      <td>213.150996</td>\n",
       "    </tr>\n",
       "    <tr>\n",
       "      <th>2023-08-02</th>\n",
       "      <td>9245</td>\n",
       "      <td>9426.091683</td>\n",
       "      <td>-181.091683</td>\n",
       "    </tr>\n",
       "    <tr>\n",
       "      <th>2023-08-03</th>\n",
       "      <td>9128</td>\n",
       "      <td>9262.739148</td>\n",
       "      <td>-134.739148</td>\n",
       "    </tr>\n",
       "    <tr>\n",
       "      <th>2023-08-04</th>\n",
       "      <td>384</td>\n",
       "      <td>9044.869746</td>\n",
       "      <td>-8660.869746</td>\n",
       "    </tr>\n",
       "  </tbody>\n",
       "</table>\n",
       "<p>90 rows × 3 columns</p>\n",
       "</div>"
      ],
      "text/plain": [
       "            y_test       y_pred         diff\n",
       "2023-05-07    9102  7219.547517  1882.452483\n",
       "2023-05-08    9709  9206.425113   502.574887\n",
       "2023-05-09    9309  9267.871065    41.128935\n",
       "2023-05-10    9110  9107.774151     2.225849\n",
       "2023-05-11    9155  8958.311578   196.688422\n",
       "...            ...          ...          ...\n",
       "2023-07-31    9921  9552.056178   368.943822\n",
       "2023-08-01    9813  9599.849004   213.150996\n",
       "2023-08-02    9245  9426.091683  -181.091683\n",
       "2023-08-03    9128  9262.739148  -134.739148\n",
       "2023-08-04     384  9044.869746 -8660.869746\n",
       "\n",
       "[90 rows x 3 columns]"
      ]
     },
     "execution_count": 69,
     "metadata": {},
     "output_type": "execute_result"
    }
   ],
   "source": [
    "# Calculate Evaluation Metrics\n",
    "\n",
    "y_test = test_set['Unique Key'] \n",
    "y_pred = preds['Prediction']\n",
    "pd.DataFrame({'y_test': y_test, 'y_pred' : y_pred, 'diff':y_test - y_pred})"
   ]
  },
  {
   "cell_type": "code",
   "execution_count": 70,
   "id": "43fa5037",
   "metadata": {},
   "outputs": [
    {
     "name": "stdout",
     "output_type": "stream",
     "text": [
      "MSE =  1522092.7511081337\n",
      "RMSE =  1233.7312313093698\n",
      "MAE =  698.1105306105491\n"
     ]
    }
   ],
   "source": [
    "# Model evaluation\n",
    "\n",
    "from sklearn.metrics import mean_absolute_error, mean_squared_error\n",
    "print('MSE = ', mean_squared_error(y_test,y_pred))\n",
    "print('RMSE = ', np.sqrt(mean_squared_error(y_test,y_pred)))\n",
    "print('MAE = ', mean_absolute_error(y_test,y_pred))"
   ]
  },
  {
   "cell_type": "code",
   "execution_count": 72,
   "id": "97316cf3",
   "metadata": {},
   "outputs": [
    {
     "data": {
      "image/png": "[encoded data removed]",
      "text/plain": [
       "<Figure size 1296x288 with 1 Axes>"
      ]
     },
     "metadata": {
      "needs_background": "light"
     },
     "output_type": "display_data"
    }
   ],
   "source": [
    "# Plot results\n",
    "\n",
    "train_set['Unique Key'].rename('Training Set').plot(legend=True)\n",
    "test_set['Unique Key'].rename('Test Set').plot(legend=True)\n",
    "preds.Prediction.plot(legend = True)\n",
    "plt.show()"
   ]
  },
  {
   "cell_type": "code",
   "execution_count": null,
   "id": "51984339",
   "metadata": {},
   "outputs": [],
   "source": []
  },
  {
   "cell_type": "code",
   "execution_count": null,
   "id": "1a8cffd4",
   "metadata": {},
   "outputs": [],
   "source": []
  }
 ],
 "metadata": {
  "kernelspec": {
   "display_name": "Python 3 (ipykernel)",
   "language": "python",
   "name": "python3"
  },
  "language_info": {
   "codemirror_mode": {
    "name": "ipython",
    "version": 3
   },
   "file_extension": ".py",
   "mimetype": "text/x-python",
   "name": "python",
   "nbconvert_exporter": "python",
   "pygments_lexer": "ipython3",
   "version": "3.9.12"
  }
 },
 "nbformat": 4,
 "nbformat_minor": 5
}
